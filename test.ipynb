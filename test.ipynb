{
 "cells": [
  {
   "cell_type": "code",
   "execution_count": 3,
   "id": "abeb6e8d",
   "metadata": {},
   "outputs": [],
   "source": [
    "import requests, os\n",
    "from dotenv import load_dotenv"
   ]
  },
  {
   "cell_type": "code",
   "execution_count": 4,
   "id": "b6fec8ed",
   "metadata": {},
   "outputs": [],
   "source": [
    "session = requests.Session()"
   ]
  },
  {
   "cell_type": "code",
   "execution_count": 9,
   "id": "2bf2aaaf",
   "metadata": {},
   "outputs": [],
   "source": [
    "headers = {\n",
    "    \"x-api-key\" : os.getenv(\"API_KEY\"),\n",
    "    \"userId\" : os.getenv(\"USER_ID\"),\n",
    "    'User-Agent': 'PostmanRuntime/7.43.3'\n",
    "}"
   ]
  },
  {
   "cell_type": "code",
   "execution_count": 15,
   "id": "ed2376d4",
   "metadata": {},
   "outputs": [],
   "source": [
    "response = session.request(\n",
    "    method = \"GET\",\n",
    "    url = \"https://www.notexponential.com/aip2pgaming/api/rl/score.php\",\n",
    "    timeout = 10,\n",
    "    headers = headers,\n",
    "    params = {\n",
    "        \"type\" : \"runs\",\n",
    "        \"teamId\" : 1444,\n",
    "        \"count\" : 10\n",
    "    }\n",
    ")\n",
    "response.raise_for_status()"
   ]
  },
  {
   "cell_type": "code",
   "execution_count": 16,
   "id": "52fd924c",
   "metadata": {},
   "outputs": [
    {
     "data": {
      "text/plain": [
       "{'runs': [{'runId': '69098',\n",
       "   'teamId': '1444',\n",
       "   'gworldId': '1',\n",
       "   'createTs': '2025-04-22 09:32:22',\n",
       "   'score': '0.51131980',\n",
       "   'moves': '6'}],\n",
       " 'code': 'OK'}"
      ]
     },
     "execution_count": 16,
     "metadata": {},
     "output_type": "execute_result"
    }
   ],
   "source": [
    "response.json()"
   ]
  },
  {
   "cell_type": "code",
   "execution_count": 6,
   "id": "95243bb9",
   "metadata": {},
   "outputs": [
    {
     "name": "stdout",
     "output_type": "stream",
     "text": [
      "(<function func at 0x793e1c642560>,)\n",
      "{}\n"
     ]
    }
   ],
   "source": [
    "def freeze(seconds = 5):\n",
    "    def f(*args, **kwargs):\n",
    "        print(args)\n",
    "        print(kwargs)\n",
    "        return 5\n",
    "    \n",
    "    return f\n",
    "\n",
    "@freeze(seconds=5)\n",
    "def func():\n",
    "    print(5)"
   ]
  },
  {
   "cell_type": "code",
   "execution_count": null,
   "id": "0bf14aae",
   "metadata": {},
   "outputs": [],
   "source": []
  },
  {
   "cell_type": "code",
   "execution_count": 10,
   "id": "c5b2f8ea",
   "metadata": {},
   "outputs": [],
   "source": [
    "from collections import defaultdict"
   ]
  },
  {
   "cell_type": "code",
   "execution_count": 11,
   "id": "8ba0b385",
   "metadata": {},
   "outputs": [],
   "source": [
    "d = defaultdict(lambda x : 0)"
   ]
  },
  {
   "cell_type": "code",
   "execution_count": 13,
   "id": "00aac5dd",
   "metadata": {},
   "outputs": [],
   "source": [
    "import cloudpickle\n",
    "\n",
    "with open('./test.pkl', 'wb') as f:\n",
    "    cloudpickle.dump(d, f)"
   ]
  },
  {
   "cell_type": "code",
   "execution_count": 14,
   "id": "482b39d3",
   "metadata": {},
   "outputs": [],
   "source": [
    "import cloudpickle\n",
    "\n",
    "with open('./test.pkl', 'rb') as f:\n",
    "    test = cloudpickle.load(f)"
   ]
  },
  {
   "cell_type": "code",
   "execution_count": 15,
   "id": "5a8423a6",
   "metadata": {},
   "outputs": [
    {
     "data": {
      "text/plain": [
       "defaultdict(<function __main__.<lambda>(x)>, {})"
      ]
     },
     "execution_count": 15,
     "metadata": {},
     "output_type": "execute_result"
    }
   ],
   "source": [
    "test"
   ]
  }
 ],
 "metadata": {
  "kernelspec": {
   "display_name": "BasePy3.10",
   "language": "python",
   "name": "python3"
  },
  "language_info": {
   "codemirror_mode": {
    "name": "ipython",
    "version": 3
   },
   "file_extension": ".py",
   "mimetype": "text/x-python",
   "name": "python",
   "nbconvert_exporter": "python",
   "pygments_lexer": "ipython3",
   "version": "3.10.5"
  }
 },
 "nbformat": 4,
 "nbformat_minor": 5
}
